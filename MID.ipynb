{
 "cells": [
  {
   "cell_type": "code",
   "execution_count": 1,
   "id": "220d01a0",
   "metadata": {},
   "outputs": [],
   "source": [
    "import os\n",
    "import cv2\n",
    "import glob\n",
    "import numpy as np\n",
    "import matplotlib.pyplot as plt\n",
    "\n",
    "def get_manhattan_distance(s1, s2):\n",
    "    manhattan_dist = 0\n",
    "    for i in range(len(s1)):\n",
    "        manhattan_dist += abs(int(s1[i]) - int(s2[i]))\n",
    "    return manhattan_dist\n",
    "\n",
    "def get_euclidean_distance(s1, s2):\n",
    "    euclidean_dist = 0\n",
    "    for i in range(len(s1)):\n",
    "        euclidean_dist += (int(s1[i]) - int(s2[i]))**2\n",
    "    return np.sqrt(euclidean_dist)"
   ]
  },
  {
   "cell_type": "code",
   "execution_count": 2,
   "id": "5081d60f",
   "metadata": {},
   "outputs": [
    {
     "name": "stdout",
     "output_type": "stream",
     "text": [
      "Categories: ['airplane', 'automobile', 'bird', 'cat', 'deer', 'dog', 'frog', 'horse', 'ship', 'truck']\n",
      "Reading category: 1\n",
      "Reading category: 2\n",
      "Reading category: 3\n",
      "Reading category: 4\n",
      "Reading category: 5\n",
      "Reading category: 6\n",
      "Reading category: 7\n",
      "Reading category: 8\n",
      "Reading category: 9\n",
      "Reading category: 10\n",
      "success\n"
     ]
    }
   ],
   "source": [
    "train_path = r'C:\\Users\\HP\\Desktop\\mid assignment\\CIFAR-10-images-master\\train'\n",
    "test_path = r'C:\\Users\\HP\\Desktop\\mid assignment\\CIFAR-10-images-master\\test'\n",
    "\n",
    "X_train = []\n",
    "y_train = []\n",
    "X_test = []\n",
    "y_test = []\n",
    "\n",
    "categories = os.listdir(train_path)\n",
    "print('Categories:',categories)\n",
    "\n",
    "\n",
    "category_count = 0\n",
    "for category in categories:\n",
    "    category_count += 1\n",
    "    print('Reading category:',category_count)\n",
    "    train_category_path = os.path.join(train_path,category)\n",
    "    test_category_path = os.path.join(test_path,category)\n",
    "    train_images = os.listdir(train_category_path)\n",
    "    test_images = os.listdir(test_category_path)\n",
    "    \n",
    "    \n",
    "   #train data\n",
    "    for image in train_images:\n",
    "        \n",
    "        X_train.append(cv2.imread(os.path.join(train_category_path,image)))\n",
    "        y_train.append(category)\n",
    "        \n",
    "   #test data\n",
    "    for image in test_images:\n",
    "        \n",
    "        X_test.append(cv2.imread(os.path.join(test_category_path,image)))\n",
    "        y_test.append(category)\n",
    "        \n",
    "print('success')"
   ]
  },
  {
   "cell_type": "code",
   "execution_count": 3,
   "id": "38c36d68",
   "metadata": {},
   "outputs": [
    {
     "name": "stdout",
     "output_type": "stream",
     "text": [
      " Distance calculation...\n",
      "complete\n"
     ]
    }
   ],
   "source": [
    "distances = []\n",
    "completed = 0\n",
    "\n",
    "print(' Distance calculation...')\n",
    "\n",
    "for test_image in X_test[:10]:\n",
    "    manhattan_dist = []\n",
    "    for train_image in X_train:\n",
    "        \n",
    "        manhattan_dist.append(np.sum(abs(test_image.flatten()-train_image.flatten())))\n",
    "    distances.append(manhattan_dist)\n",
    "    completed += 1\n",
    "    if completed%1000 == 0:\n",
    "        print(f'Completed: {int(completed/100)}%')\n",
    "        \n",
    "print('complete')"
   ]
  },
  {
   "cell_type": "code",
   "execution_count": 4,
   "id": "05ba0e4f",
   "metadata": {},
   "outputs": [],
   "source": [
    "accuracies = []\n",
    "k_values = range(1,21)\n",
    "\n",
    "for k in k_values:  \n",
    "    correct = 0\n",
    "    wrong = 0\n",
    "    for i,distance in enumerate(distances):\n",
    "       \n",
    "        sorted_dist = np.argsort(distance)\n",
    "       \n",
    "        predictions = []\n",
    "        for dist in sorted_dist[:k]:\n",
    "            \n",
    "            predictions.append(y_train[dist])\n",
    "       \n",
    "        predicted = max(predictions, key=predictions.count)\n",
    "        \n",
    "        if predicted == y_test[i]:\n",
    "            correct += 1\n",
    "        else:\n",
    "            wrong += 1\n",
    "        \n",
    "    \n",
    "    accuracy = (correct/len(distances))*100\n",
    "    accuracies.append(accuracy)\n",
    "   "
   ]
  },
  {
   "cell_type": "code",
   "execution_count": 5,
   "id": "924cef36",
   "metadata": {},
   "outputs": [
    {
     "data": {
      "image/png": "[encoded data removed]",
      "text/plain": [
       "<Figure size 432x288 with 1 Axes>"
      ]
     },
     "metadata": {
      "needs_background": "light"
     },
     "output_type": "display_data"
    }
   ],
   "source": [
    "plt.figure()\n",
    "plt.plot(k_values,accuracies,'ro-')\n",
    "plt.xlabel('K values')\n",
    "plt.ylabel('Accuracy in Percentage (%)')\n",
    "# visualizing the accuracy in percentage\n",
    "plt.xticks(k_values)\n",
    "plt.grid(True)\n",
    "plt.show()"
   ]
  }
 ],
 "metadata": {
  "kernelspec": {
   "display_name": "Python 3 (ipykernel)",
   "language": "python",
   "name": "python3"
  },
  "language_info": {
   "codemirror_mode": {
    "name": "ipython",
    "version": 3
   },
   "file_extension": ".py",
   "mimetype": "text/x-python",
   "name": "python",
   "nbconvert_exporter": "python",
   "pygments_lexer": "ipython3",
   "version": "3.9.7"
  }
 },
 "nbformat": 4,
 "nbformat_minor": 5
}
